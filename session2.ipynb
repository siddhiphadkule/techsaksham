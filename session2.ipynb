{
 "cells": [
  {
   "cell_type": "code",
   "execution_count": 5,
   "id": "d00539fd-307a-457d-bc0f-959e39207b2c",
   "metadata": {},
   "outputs": [
    {
     "data": {
      "text/plain": [
       "6"
      ]
     },
     "execution_count": 5,
     "metadata": {},
     "output_type": "execute_result"
    }
   ],
   "source": [
    "name=\"siddhi\"\n",
    "len(name)"
   ]
  },
  {
   "cell_type": "code",
   "execution_count": 7,
   "id": "cb2a7b00-ac97-4d6e-8bc0-1bfa037bc740",
   "metadata": {},
   "outputs": [
    {
     "name": "stdout",
     "output_type": "stream",
     "text": [
      "d\n"
     ]
    }
   ],
   "source": [
    "print(name[-3])"
   ]
  },
  {
   "cell_type": "code",
   "execution_count": 11,
   "id": "134f8650-7292-481b-ada1-951116d05961",
   "metadata": {},
   "outputs": [
    {
     "name": "stdout",
     "output_type": "stream",
     "text": [
      "h\n"
     ]
    }
   ],
   "source": [
    "print(name[4])"
   ]
  },
  {
   "cell_type": "code",
   "execution_count": 45,
   "id": "605c85d8-3bc3-4d88-a83b-39b0463e7750",
   "metadata": {},
   "outputs": [
    {
     "name": "stdin",
     "output_type": "stream",
     "text": [
      "Enter the password(min 6 character) sidd@#\n"
     ]
    },
    {
     "name": "stdout",
     "output_type": "stream",
     "text": [
      "password has been set\n"
     ]
    }
   ],
   "source": [
    "passw=input(\"Enter the password(min 6 character)\")\n",
    "spc=\"@#&\"\n",
    "a=0\n",
    "if(len(passw)>=6 and len(passw)<10):\n",
    "    a=0\n",
    "    for passw in spc:\n",
    "        a=1\n",
    "    if (a==0):\n",
    "        print(\"use special symbols also\")\n",
    "    else:print(\"password has been set\")\n",
    "elif(len(passw)<6):\n",
    "    print (\"short password\")\n",
    "else:print(\"too small\")\n"
   ]
  },
  {
   "cell_type": "code",
   "execution_count": 47,
   "id": "ab12c26a-2136-4090-bb69-dfdfaf706ab9",
   "metadata": {},
   "outputs": [
    {
     "name": "stdin",
     "output_type": "stream",
     "text": [
      "enter the number 25\n"
     ]
    },
    {
     "name": "stdout",
     "output_type": "stream",
     "text": [
      "52\n"
     ]
    }
   ],
   "source": [
    "a=input(\"enter the number\")\n",
    "a=a[::-1]\n",
    "print(int(a))"
   ]
  },
  {
   "cell_type": "code",
   "execution_count": 57,
   "id": "b4d38c92-6031-4ee8-b7ef-5a332f74426c",
   "metadata": {},
   "outputs": [
    {
     "name": "stdin",
     "output_type": "stream",
     "text": [
      "enter the weight in kg : 40\n",
      "enter the height in meter: 1.5\n"
     ]
    },
    {
     "name": "stdout",
     "output_type": "stream",
     "text": [
      "17.77777777777778\n"
     ]
    }
   ],
   "source": [
    "weight=float(input(\"enter the weight in kg :\"))\n",
    "height=float(input(\"enter the height in meter:\"))\n",
    "BMI=weight/(height*height)\n",
    "print(BMI)"
   ]
  },
  {
   "cell_type": "code",
   "execution_count": 63,
   "id": "19254505-6d9c-4944-a529-10291b4b5615",
   "metadata": {},
   "outputs": [
    {
     "name": "stdin",
     "output_type": "stream",
     "text": [
      "enter the number: 232\n"
     ]
    },
    {
     "name": "stdout",
     "output_type": "stream",
     "text": [
      "[2, 4, 8, 29, 58, 116]\n"
     ]
    }
   ],
   "source": [
    "num=int(input(\"enter the number:\"))\n",
    "a=0\n",
    "b=[]\n",
    "for i in range(2,num-1):\n",
    "    if(num%i==0):\n",
    "        a=1\n",
    "        b.append(i)\n",
    "if(a==0):\n",
    "    print(f\"{num}is prime number\")\n",
    "else:print(b)"
   ]
  },
  {
   "cell_type": "code",
   "execution_count": 116,
   "id": "837a5953-e901-4ea7-bf56-0271f810662a",
   "metadata": {},
   "outputs": [
    {
     "name": "stdout",
     "output_type": "stream",
     "text": [
      "Head: 4\n",
      "Tail: 6\n"
     ]
    }
   ],
   "source": [
    "import random\n",
    "head=0\n",
    "tail=0\n",
    "for i in range (0,10):\n",
    "    num=random.randint(a=0,b=1)\n",
    "    #print(num)\n",
    "    if(num==1):\n",
    "        head+=1\n",
    "    else:\n",
    "        tail+=1\n",
    "print(\"Head:\",head)\n",
    "print(\"Tail:\",tail)"
   ]
  }
 ],
 "metadata": {
  "kernelspec": {
   "display_name": "Python [conda env:base] *",
   "language": "python",
   "name": "conda-base-py"
  },
  "language_info": {
   "codemirror_mode": {
    "name": "ipython",
    "version": 3
   },
   "file_extension": ".py",
   "mimetype": "text/x-python",
   "name": "python",
   "nbconvert_exporter": "python",
   "pygments_lexer": "ipython3",
   "version": "3.12.7"
  }
 },
 "nbformat": 4,
 "nbformat_minor": 5
}
