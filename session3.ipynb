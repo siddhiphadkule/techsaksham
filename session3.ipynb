{
 "cells": [
  {
   "cell_type": "code",
   "execution_count": 21,
   "id": "313a902a-2e8f-451d-87d0-9e5819d0df47",
   "metadata": {},
   "outputs": [
    {
     "name": "stdin",
     "output_type": "stream",
     "text": [
      "enter a password sidd@#$\n"
     ]
    },
    {
     "name": "stdout",
     "output_type": "stream",
     "text": [
      "password should have minimun 8 characters\n"
     ]
    }
   ],
   "source": [
    "password = input(\"enter a password\")\n",
    "#asdf123%\n",
    "spec_char = \"$%#@\"\n",
    "if 8<len(password)<16:\n",
    "    if password.isalpha() or password.isnumeric():\n",
    "        print(\"your password should have both number and alphabets\")\n",
    "    elif password.isalnum():\n",
    "        print(\"your password doesn't contain special characters\")\n",
    "    elif any(passw in spec_char for passw in password):\n",
    "        print(\"vaid password\")\n",
    "    else:\n",
    "        (\"invalid password\")\n",
    "else:\n",
    "    print(\"password should have minimun 8 characters\")\n",
    "    "
   ]
  },
  {
   "cell_type": "code",
   "execution_count": 32,
   "id": "2459f446-e24c-414d-bbf9-0c5cbca8cfac",
   "metadata": {},
   "outputs": [
    {
     "name": "stdin",
     "output_type": "stream",
     "text": [
      "enter the numbers  2\n",
      "enter the numbers  3\n",
      "enter thr numbers  3\n"
     ]
    },
    {
     "name": "stdout",
     "output_type": "stream",
     "text": [
      "sum= 2\n"
     ]
    }
   ],
   "source": [
    "a=int(input(\"enter the numbers \"))\n",
    "b=int(input(\"enter the numbers \"))\n",
    "c=int(input(\"enter thr numbers \"))\n",
    "if (a==b==c):\n",
    "   print(\"sum=0\")\n",
    "elif(a==b!=c):\n",
    "   print(\"sum=\",c)\n",
    "elif(a==c!=b):\n",
    "    print(\"sum=\",b)\n",
    "elif(c==b!=a):\n",
    "    print(\"sum=\",a)\n",
    "else:\n",
    "    sum=a+b+c\n",
    "    print(\"sum=\",sum)\n",
    "    \n",
    "    "
   ]
  },
  {
   "cell_type": "code",
   "execution_count": 44,
   "id": "567b5772-0a11-4b88-82c8-91d378f67b60",
   "metadata": {},
   "outputs": [
    {
     "name": "stdout",
     "output_type": "stream",
     "text": [
      "a\n"
     ]
    }
   ],
   "source": [
    "import random \n",
    "n=[\"a\",\"b\",\"c\",\"d\",\"e\"]\n",
    "f=random.randint(0,len(n)-1)\n",
    "print(n[f])\n"
   ]
  },
  {
   "cell_type": "code",
   "execution_count": 54,
   "id": "3e900a82-dcc1-42b8-8df2-27e54e392879",
   "metadata": {},
   "outputs": [
    {
     "name": "stdin",
     "output_type": "stream",
     "text": [
      "enter all the names :  shrutika,siddhi,ishwari,shelake\n"
     ]
    },
    {
     "name": "stdout",
     "output_type": "stream",
     "text": [
      "siddhi has to pay the bill\n"
     ]
    }
   ],
   "source": [
    "import random\n",
    "names = input(\"enter all the names : \").split(\",\")\n",
    "i = random.randint(0,len(names)-1)\n",
    "print(f\"{names[i]} has to pay the bill\")\n"
   ]
  },
  {
   "cell_type": "code",
   "execution_count": 70,
   "id": "15f254f8-af4f-416d-b388-9c5af1c7f0ea",
   "metadata": {},
   "outputs": [
    {
     "name": "stdout",
     "output_type": "stream",
     "text": [
      "2450\n"
     ]
    }
   ],
   "source": [
    "sum=0\n",
    "for i in range(0,100,2):\n",
    "    sum+=i\n",
    "print(sum)"
   ]
  },
  {
   "cell_type": "code",
   "execution_count": 78,
   "id": "5efcb2a0-7028-4d26-8275-6f1839c87515",
   "metadata": {},
   "outputs": [
    {
     "name": "stdin",
     "output_type": "stream",
     "text": [
      "enter name: Mule\n"
     ]
    },
    {
     "name": "stdout",
     "output_type": "stream",
     "text": [
      "converted string: mULE\n"
     ]
    }
   ],
   "source": [
    "num = input(\"enter name:\")\n",
    "n = \"\"\n",
    "for i in range(len(num)):\n",
    "    if num[i].islower():\n",
    "       n+= num[i].upper()\n",
    "    else:\n",
    "       n+= num[i].lower()\n",
    "print(\"converted string:\", n)"
   ]
  },
  {
   "cell_type": "code",
   "execution_count": 94,
   "id": "fe56d389-31f9-417f-83d7-0843f919837f",
   "metadata": {},
   "outputs": [
    {
     "name": "stdin",
     "output_type": "stream",
     "text": [
      "enter the number: 89\n"
     ]
    },
    {
     "name": "stdout",
     "output_type": "stream",
     "text": [
      "invalid number\n"
     ]
    }
   ],
   "source": [
    "n=int(input(\"enter the number:\"))\n",
    "if (n%3==0 and n%5==0):\n",
    "    print(\"fizzbuzz\")\n",
    "elif(n%3==0):\n",
    "    print(\"fizz\")\n",
    "elif(n%5==0):\n",
    "    print(\"buzz\")\n",
    "else:\n",
    "    print(\"invalid number\")"
   ]
  },
  {
   "cell_type": "code",
   "execution_count": 106,
   "id": "4ce0da80-8bed-45c3-8a19-4cd1d904b8d6",
   "metadata": {},
   "outputs": [
    {
     "name": "stdin",
     "output_type": "stream",
     "text": [
      "enter word: siddhi\n",
      "enter character u want to search: d\n"
     ]
    },
    {
     "name": "stdout",
     "output_type": "stream",
     "text": [
      "2\n"
     ]
    }
   ],
   "source": [
    "word=input(\"enter word:\")\n",
    "count=0\n",
    "char_word=input(\"enter character u want to search:\")\n",
    "for i in range(len(word)):\n",
    "    if char_word==word[i]:\n",
    "        count+=1\n",
    "print(count)"
   ]
  },
  {
   "cell_type": "code",
   "execution_count": 148,
   "id": "a0a691b7-fa19-4e37-ab00-5569d8c666a8",
   "metadata": {},
   "outputs": [
    {
     "name": "stdin",
     "output_type": "stream",
     "text": [
      "enter password length: 20\n"
     ]
    },
    {
     "name": "stdout",
     "output_type": "stream",
     "text": [
      "generate password: rp*a5>>gr7j#kc!h9!mi\n"
     ]
    }
   ],
   "source": [
    "import random\n",
    "length=int(input(\"enter password length:\"))\n",
    "digits=\"1234567890\"\n",
    "symbol=\"!@#$%^&*()<>\"\n",
    "alpha=\"qwerttyuiopasdfghjklzxcvbnm\"\n",
    "characters=(digits+symbol+alpha)\n",
    "passwd=\"\"\n",
    "for i in range(length):\n",
    "    ran=random.randint(0,len(characters)-1)\n",
    "    passwd+=characters[ran]\n",
    "print(\"generate password:\",passwd)\n"
   ]
  },
  {
   "cell_type": "code",
   "execution_count": null,
   "id": "40ff1e48-2d30-4a29-b54f-edaa66500602",
   "metadata": {},
   "outputs": [],
   "source": []
  }
 ],
 "metadata": {
  "kernelspec": {
   "display_name": "Python [conda env:base] *",
   "language": "python",
   "name": "conda-base-py"
  },
  "language_info": {
   "codemirror_mode": {
    "name": "ipython",
    "version": 3
   },
   "file_extension": ".py",
   "mimetype": "text/x-python",
   "name": "python",
   "nbconvert_exporter": "python",
   "pygments_lexer": "ipython3",
   "version": "3.12.7"
  }
 },
 "nbformat": 4,
 "nbformat_minor": 5
}
