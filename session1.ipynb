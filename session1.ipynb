{
 "cells": [
  {
   "cell_type": "code",
   "execution_count": 1,
   "id": "3b146ce0-fbe5-4f0a-b982-3624cf8ef833",
   "metadata": {},
   "outputs": [
    {
     "name": "stdout",
     "output_type": "stream",
     "text": [
      "<class 'list'>\n",
      "['apple', 'banana', 'mango']\n"
     ]
    }
   ],
   "source": [
    "fruits=[\"mango\",\"apple\",\"banana\"]\n",
    "print(type(fruits))\n",
    "fruits.sort()\n",
    "print(fruits)"
   ]
  },
  {
   "cell_type": "code",
   "execution_count": 3,
   "id": "d0ff0bdf-efcc-4c79-92b0-c19411f67ba3",
   "metadata": {},
   "outputs": [
    {
     "data": {
      "text/plain": [
       "['apple', 'banana', 'mango', [3, 2]]"
      ]
     },
     "execution_count": 3,
     "metadata": {},
     "output_type": "execute_result"
    }
   ],
   "source": [
    "fruits.append([3,2])\n",
    "fruits"
   ]
  },
  {
   "cell_type": "code",
   "execution_count": 20,
   "id": "2a5d5f35-d599-424f-802a-118da606bb34",
   "metadata": {},
   "outputs": [],
   "source": [
    "fruits.extend([2,9,7])"
   ]
  },
  {
   "cell_type": "markdown",
   "id": "ce1d9f20-d8ac-4410-819a-fff33a3126ab",
   "metadata": {},
   "source": [
    "name = \"edunet foundation\""
   ]
  },
  {
   "cell_type": "code",
   "execution_count": 8,
   "id": "68af4147-2053-4665-aecb-7b30d1a95bfe",
   "metadata": {},
   "outputs": [
    {
     "name": "stdout",
     "output_type": "stream",
     "text": [
      "EDUNET FOUNDATION\n",
      "edunet foundation\n"
     ]
    }
   ],
   "source": [
    "name = \"edunet foundation\"\n",
    "print(name.upper())\n",
    "print(name.lower())"
   ]
  },
  {
   "cell_type": "code",
   "execution_count": 32,
   "id": "c932be26-faea-412c-b485-e442e00b3bc2",
   "metadata": {},
   "outputs": [
    {
     "name": "stdout",
     "output_type": "stream",
     "text": [
      "FOUNDATION\n",
      "foundation\n",
      "FounDATION\n"
     ]
    }
   ],
   "source": [
    "name = \"FounDATION\"\n",
    "print(name.upper())\n",
    "print(name.lower())\n",
    "# help(str)\n",
    "print(name.strip())"
   ]
  },
  {
   "cell_type": "code",
   "execution_count": 39,
   "id": "08976883-c1a3-414a-b123-10e9ca61cd74",
   "metadata": {},
   "outputs": [
    {
     "name": "stdout",
     "output_type": "stream",
     "text": [
      "                    FounDATION                    \n"
     ]
    }
   ],
   "source": [
    "print(name.center(50))\n"
   ]
  },
  {
   "cell_type": "code",
   "execution_count": 48,
   "id": "4c04b4a5-484b-45b5-83fe-d8d6b8ce2769",
   "metadata": {},
   "outputs": [],
   "source": [
    "listinlist = [1,[2,3],3]"
   ]
  },
  {
   "cell_type": "code",
   "execution_count": 50,
   "id": "15ac66d5-27ff-4504-bca3-8824cd7de65b",
   "metadata": {},
   "outputs": [
    {
     "data": {
      "text/plain": [
       "[1, [2, 3], 3]"
      ]
     },
     "execution_count": 50,
     "metadata": {},
     "output_type": "execute_result"
    }
   ],
   "source": [
    "listinlist"
   ]
  },
  {
   "cell_type": "code",
   "execution_count": 52,
   "id": "583fb904-ca35-4a8d-97f1-a09604c31f18",
   "metadata": {},
   "outputs": [
    {
     "data": {
      "text/plain": [
       "[1, [2, 3], 3]"
      ]
     },
     "execution_count": 52,
     "metadata": {},
     "output_type": "execute_result"
    }
   ],
   "source": [
    "[1,[2,3],3]"
   ]
  },
  {
   "cell_type": "code",
   "execution_count": 57,
   "id": "9db3ad32-f64c-4d44-a4a7-822b0ee76c98",
   "metadata": {},
   "outputs": [
    {
     "name": "stdout",
     "output_type": "stream",
     "text": [
      "<class 'tuple'>\n"
     ]
    }
   ],
   "source": [
    "tup1=(2,3)\n",
    "print(type(tup1))\n",
    "(first,second ) = tup1"
   ]
  },
  {
   "cell_type": "code",
   "execution_count": 67,
   "id": "8a064836-fbc9-4e1b-9137-cfde3d7a9f56",
   "metadata": {},
   "outputs": [
    {
     "name": "stdin",
     "output_type": "stream",
     "text": [
      "enter your age: 54\n"
     ]
    },
    {
     "name": "stdout",
     "output_type": "stream",
     "text": [
      "years36,months=432,week=1872,days=13140\n"
     ]
    }
   ],
   "source": [
    "age=int(input(\"enter your age:\"))\n",
    "remaining_Y_age=90-age\n",
    "remaining_M_age=remaining_Y_age*12\n",
    "remaining_z_age=remaining_Y_age*52\n",
    "remaining_d_age=remaining_Y_age*365\n",
    "print(f\"years{remaining_Y_age},months={remaining_M_age},week={remaining_z_age},days={remaining_d_age}\")\n"
   ]
  },
  {
   "cell_type": "markdown",
   "id": "bb8b69af-064c-4231-89a2-9be564ccceaa",
   "metadata": {},
   "source": [
    "bill=int(input(\"enter total bill amt:\"))\n",
    "tip=int(input(\"enter tip percentage\"))\n",
    "tip=(tip*bill)/100\n",
    "person=int(input(\"total person:\"))\n",
    "print(\"total bill with tip:\",(tip+bill))\n",
    "print(\"split per person:\",round((tip+bill)/person))"
   ]
  },
  {
   "cell_type": "code",
   "execution_count": 82,
   "id": "488736d4-9b1e-4637-8f20-77e861a5cb87",
   "metadata": {},
   "outputs": [
    {
     "name": "stdin",
     "output_type": "stream",
     "text": [
      "Enter the number: 25\n"
     ]
    },
    {
     "name": "stdout",
     "output_type": "stream",
     "text": [
      "divisable by 5 but not even\n"
     ]
    }
   ],
   "source": [
    "num = int(input(\"Enter the number:\"))\n",
    "if (num%2==0 and num%5==0):\n",
    "    print(\"divisable by 5 and even\")\n",
    "elif(num%2==0 and num%5!=0):\n",
    "    print(\"even but not divisable by 5\")\n",
    "elif(num%2!=0 and num%5==0):\n",
    "    print(\"divisable by 5 but not even\")\n",
    "else:print(\"not even also and not divisable by 5\")"
   ]
  },
  {
   "cell_type": "code",
   "execution_count": null,
   "id": "a2f6dde0-1acb-4be7-a5bc-3805a04b36b6",
   "metadata": {},
   "outputs": [],
   "source": []
  },
  {
   "cell_type": "code",
   "execution_count": null,
   "id": "726ba660-56f8-4229-bac5-ba2dca1a09f7",
   "metadata": {},
   "outputs": [],
   "source": []
  }
 ],
 "metadata": {
  "kernelspec": {
   "display_name": "Python [conda env:base] *",
   "language": "python",
   "name": "conda-base-py"
  },
  "language_info": {
   "codemirror_mode": {
    "name": "ipython",
    "version": 3
   },
   "file_extension": ".py",
   "mimetype": "text/x-python",
   "name": "python",
   "nbconvert_exporter": "python",
   "pygments_lexer": "ipython3",
   "version": "3.12.7"
  }
 },
 "nbformat": 4,
 "nbformat_minor": 5
}
