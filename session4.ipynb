{
 "cells": [
  {
   "cell_type": "code",
   "execution_count": 25,
   "id": "ff95d308-ed4d-4132-abee-5bdf5cfeb0ac",
   "metadata": {},
   "outputs": [
    {
     "name": "stdout",
     "output_type": "stream",
     "text": [
      "Toyota 2016 black\n"
     ]
    }
   ],
   "source": [
    "class car:\n",
    "    def __init__(self,modelname,year,colour):\n",
    "     self.modelname=modelname\n",
    "     self.year=year\n",
    "     self.colour=colour \n",
    "    def display(self):\n",
    "     print(self.modelname,self.year,self.colour)\n",
    "c1=car(\"Toyota\",2016,\"black\")\n",
    "c1.display()"
   ]
  },
  {
   "cell_type": "code",
   "execution_count": 33,
   "id": "c7335d16-e447-48fe-9d9e-aab0ece0a789",
   "metadata": {},
   "outputs": [],
   "source": [
    "class line:\n",
    "    def __init__(self,coor1,coor2): \n",
    "        pass\n",
    "    def distance(self):\n",
    "        pass\n",
    "    def slope(self):\n",
    "        pass"
   ]
  },
  {
   "cell_type": "code",
   "execution_count": null,
   "id": "1b739803-ba7b-4159-a31b-e09e3063f660",
   "metadata": {},
   "outputs": [],
   "source": [
    "#inheritance"
   ]
  },
  {
   "cell_type": "code",
   "execution_count": 45,
   "id": "39dd041d-aed1-4f44-bfb1-0f22f3dc4d15",
   "metadata": {},
   "outputs": [
    {
     "name": "stdout",
     "output_type": "stream",
     "text": [
      "My name is siddhi\n",
      "Idnumber is 2204\n",
      "My salary is 2000000\n",
      "post is ml engineer\n"
     ]
    }
   ],
   "source": [
    "class person(object):\n",
    "    def __init__(self,name,idnumber):\n",
    "        self.name=name\n",
    "        self.idnumber=idnumber\n",
    "    def display(self):\n",
    "        print(f\"My name is {self.name}\")\n",
    "        print(\"Idnumber is {}\".format(self.idnumber))\n",
    "#child class\n",
    "class employee(person):\n",
    "    def __init__(self,name,idnumber,salary,post):\n",
    "        self.salary=salary\n",
    "        self.post=post\n",
    "        person.__init__(self,name,idnumber)\n",
    "    def details(self):\n",
    "        print(f\"My name is {self.name}\")\n",
    "        print(\"Idnumber is {}\".format(self.idnumber))\n",
    "        print(f\"My salary is {self.salary}\")\n",
    "        print(\"post is {}\".format(self.post))\n",
    "a=employee(\"siddhi\",2204,2000000,\"ml engineer\")\n",
    "a.details()\n"
   ]
  },
  {
   "cell_type": "code",
   "execution_count": null,
   "id": "625761bf-c0dc-459e-b20e-4197161a592f",
   "metadata": {},
   "outputs": [],
   "source": [
    "#polymorphism"
   ]
  },
  {
   "cell_type": "code",
   "execution_count": 59,
   "id": "27dbb0ea-b3c1-4aff-8da5-dcae0bbc5125",
   "metadata": {},
   "outputs": [
    {
     "name": "stdout",
     "output_type": "stream",
     "text": [
      "there are different types of bird\n",
      "most of the birds can fly but some cannot\n"
     ]
    }
   ],
   "source": [
    "class Bird:\n",
    "    def intro(self):\n",
    "        print(\"there are different types of bird\")\n",
    "    def flight(self):\n",
    "        print(\"most of the birds can fly but some cannot\")\n",
    "class sparrow(Bird):\n",
    "    def flight(self):\n",
    "        print(\"sparrow cannot fly\")\n",
    "class ostrich(Bird):\n",
    "    def flight(self):\n",
    "        print(\"ostrich can fly\")\n",
    "b=Bird()\n",
    "b_sp=sparrow()\n",
    "b_os=ostrich()\n",
    "b.intro()\n",
    "b.flight()\n"
   ]
  },
  {
   "cell_type": "code",
   "execution_count": 61,
   "id": "a2435aa8-8758-4a15-bc8f-42543b34f7a0",
   "metadata": {},
   "outputs": [
    {
     "name": "stdout",
     "output_type": "stream",
     "text": [
      "there are different types of bird\n",
      "ostrich can fly\n"
     ]
    }
   ],
   "source": [
    "b_os.intro()\n",
    "b_os.flight()"
   ]
  },
  {
   "cell_type": "code",
   "execution_count": 63,
   "id": "fcbf9385-5a47-45e1-a6a0-8c81a6390f1d",
   "metadata": {},
   "outputs": [
    {
     "name": "stdout",
     "output_type": "stream",
     "text": [
      "there are different types of bird\n",
      "sparrow cannot fly\n"
     ]
    }
   ],
   "source": [
    "b_sp.intro()\n",
    "b_sp.flight()"
   ]
  },
  {
   "cell_type": "code",
   "execution_count": null,
   "id": "1e4330c8-9773-4c89-a47a-2dadb63ce90d",
   "metadata": {},
   "outputs": [],
   "source": [
    "#Encapsulation"
   ]
  },
  {
   "cell_type": "code",
   "execution_count": 71,
   "id": "9d7feff1-ce0b-4d7c-8846-ac49556d8a4b",
   "metadata": {},
   "outputs": [],
   "source": [
    "class Base:\n",
    "    def __init__(self):\n",
    "        self.a=\"hello\"\n",
    "        self.__c=\"world\"\n",
    "class derived(Base):\n",
    "    def __init__(self):\n",
    "        Base.__init__(self)\n",
    "        print(\"calling private number of class\")\n",
    "        print(self.c)"
   ]
  },
  {
   "cell_type": "code",
   "execution_count": 90,
   "id": "7c8e9cae-e9d8-4ea3-91df-6c7de3858166",
   "metadata": {},
   "outputs": [
    {
     "ename": "SyntaxError",
     "evalue": "unmatched ')' (1153232617.py, line 2)",
     "output_type": "error",
     "traceback": [
      "\u001b[1;36m  Cell \u001b[1;32mIn[90], line 2\u001b[1;36m\u001b[0m\n\u001b[1;33m    print(o.get()__c))\u001b[0m\n\u001b[1;37m                     ^\u001b[0m\n\u001b[1;31mSyntaxError\u001b[0m\u001b[1;31m:\u001b[0m unmatched ')'\n"
     ]
    }
   ],
   "source": [
    "o=Base()\n",
    "print(o.get()__c))"
   ]
  },
  {
   "cell_type": "code",
   "execution_count": 92,
   "id": "fc33b7f7-fdc0-4d3c-808e-5859afe84809",
   "metadata": {},
   "outputs": [
    {
     "name": "stdout",
     "output_type": "stream",
     "text": [
      "(3,5)\n"
     ]
    }
   ],
   "source": [
    "class point:\n",
    "    def __init__(self,x=0,y=0):\n",
    "        self.x=x\n",
    "        self.y=y\n",
    "    def __str__(self):\n",
    "        return \"({0},{1})\".format(self.x,self.y)\n",
    "    def __add__(self,other):\n",
    "        x=self.x + other.x\n",
    "        y=self.y + other.y\n",
    "        return point(x,y)\n",
    "p1=point(1,2)\n",
    "p2=point(2,3)\n",
    "print(p1+p2)\n",
    "        "
   ]
  },
  {
   "cell_type": "code",
   "execution_count": null,
   "id": "85008ab7-92c7-4d80-aea5-a8d3704aeb5c",
   "metadata": {},
   "outputs": [],
   "source": []
  }
 ],
 "metadata": {
  "kernelspec": {
   "display_name": "Python [conda env:base] *",
   "language": "python",
   "name": "conda-base-py"
  },
  "language_info": {
   "codemirror_mode": {
    "name": "ipython",
    "version": 3
   },
   "file_extension": ".py",
   "mimetype": "text/x-python",
   "name": "python",
   "nbconvert_exporter": "python",
   "pygments_lexer": "ipython3",
   "version": "3.12.7"
  }
 },
 "nbformat": 4,
 "nbformat_minor": 5
}
